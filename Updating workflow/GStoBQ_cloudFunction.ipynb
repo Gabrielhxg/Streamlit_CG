{
 "cells": [
  {
   "cell_type": "markdown",
   "metadata": {},
   "source": [
    "## BigQuery upload\n",
    "### Defining script to be used as a Cloud Funtion by GCP \n",
    "* **Objectives** | take Google Storage time-series and store it in Google BigQuery, 1 table per crypto project"
   ]
  },
  {
   "cell_type": "code",
   "execution_count": 11,
   "metadata": {},
   "outputs": [],
   "source": [
    "### Requirements ### \n",
    "import pandas as pd\n",
    "\n",
    "# Necessary cloud modules\n",
    "import os\n",
    "import gcsfs\n",
    "from google.cloud import storage \n",
    "from google.cloud import bigquery"
   ]
  },
  {
   "cell_type": "code",
   "execution_count": 12,
   "metadata": {},
   "outputs": [],
   "source": [
    "# Set auth\n",
    "fs = gcsfs.GCSFileSystem(project='awaricripto')\n",
    "os.environ[\"GOOGLE_APPLICATION_CREDENTIALS\"]=\"/Users/gabrielgomes/Downloads/awaricripto-5cfe64a9c26d.json\"\n"
   ]
  },
  {
   "cell_type": "code",
   "execution_count": 13,
   "metadata": {},
   "outputs": [],
   "source": [
    "# Import main50.csv\n",
    "main50 = pd.read_csv('main50.csv', index_col = 'Unnamed: 0')"
   ]
  },
  {
   "cell_type": "code",
   "execution_count": 14,
   "metadata": {},
   "outputs": [
    {
     "name": "stdout",
     "output_type": "stream",
     "text": [
      "All done.\n"
     ]
    }
   ],
   "source": [
    "# Assert connection\n",
    "bq_client = bigquery.Client()\n",
    "\n",
    "# Transfer | upload updated_CSVs to Google BigQuery | Define function\n",
    "def gs_to_bq(id):\n",
    "    # Set table_id to the ID of the table to create.\n",
    "    table_id = f'awaricripto.awaricripto_timeSeries.{id}'\n",
    "    \n",
    "    # Configure job for loading \n",
    "    job_config = bigquery.LoadJobConfig(\n",
    "                            autodetect=True, \n",
    "                            source_format=bigquery.SourceFormat.CSV\n",
    "                                       )\n",
    "    \n",
    "    # Define uri \n",
    "    uri = f'gs://{id}_awaricripto_bucket/{id}_ts'\n",
    "    \n",
    "    # Do it\n",
    "    load_job = bq_client.load_table_from_uri(\n",
    "                                      uri, \n",
    "                                      table_id, \n",
    "                                      job_config=job_config\n",
    "                                            )\n",
    "    \n",
    "    # Wait for the job to complete\n",
    "    load_job.result()\n",
    "\n",
    "    # Check and communicate\n",
    "    destination_table = bq_client.get_table(table_id) \n",
    "\n",
    "# Apply for all ids in main50\n",
    "for id in main50.id:\n",
    "    gs_to_bq(id)\n",
    "    \n",
    "# communicate end of process \n",
    "print('All done.')"
   ]
  }
 ],
 "metadata": {
  "kernelspec": {
   "display_name": "Python 3",
   "language": "python",
   "name": "python3"
  },
  "language_info": {
   "codemirror_mode": {
    "name": "ipython",
    "version": 3
   },
   "file_extension": ".py",
   "mimetype": "text/x-python",
   "name": "python",
   "nbconvert_exporter": "python",
   "pygments_lexer": "ipython3",
   "version": "3.7.6"
  }
 },
 "nbformat": 4,
 "nbformat_minor": 4
}
