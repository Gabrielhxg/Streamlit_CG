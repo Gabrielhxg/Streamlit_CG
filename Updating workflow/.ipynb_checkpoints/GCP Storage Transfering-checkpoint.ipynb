{
 "cells": [
  {
   "cell_type": "markdown",
   "metadata": {},
   "source": [
    "## Storage bucket upload\n",
    "\n",
    "### Defining 1-time batch upload script \n",
    "* **Approach 1**\n",
    "* **Objectives** | take local updated_csvs and store it in GStorage, 1 bucket per crypto project"
   ]
  },
  {
   "cell_type": "code",
   "execution_count": 1,
   "metadata": {},
   "outputs": [],
   "source": [
    "### Requirements ### \n",
    "import pandas as pd\n",
    "import numpy as np \n",
    "\n",
    "# Necessary cloud modules\n",
    "from google.cloud import storage \n",
    "import glob\n",
    "import os\n",
    "\n",
    "# Set auth\n",
    "os.environ[\"GOOGLE_APPLICATION_CREDENTIALS\"]=\"/Users/gabrielgomes/Downloads/awaricripto-5cfe64a9c26d.json\""
   ]
  },
  {
   "cell_type": "markdown",
   "metadata": {},
   "source": [
    "#### Import main50.csv"
   ]
  },
  {
   "cell_type": "code",
   "execution_count": 2,
   "metadata": {},
   "outputs": [
    {
     "data": {
      "text/html": [
       "<div>\n",
       "<style scoped>\n",
       "    .dataframe tbody tr th:only-of-type {\n",
       "        vertical-align: middle;\n",
       "    }\n",
       "\n",
       "    .dataframe tbody tr th {\n",
       "        vertical-align: top;\n",
       "    }\n",
       "\n",
       "    .dataframe thead th {\n",
       "        text-align: right;\n",
       "    }\n",
       "</style>\n",
       "<table border=\"1\" class=\"dataframe\">\n",
       "  <thead>\n",
       "    <tr style=\"text-align: right;\">\n",
       "      <th></th>\n",
       "      <th>id</th>\n",
       "    </tr>\n",
       "  </thead>\n",
       "  <tbody>\n",
       "    <tr>\n",
       "      <th>0</th>\n",
       "      <td>bitcoin</td>\n",
       "    </tr>\n",
       "    <tr>\n",
       "      <th>1</th>\n",
       "      <td>dogecoin</td>\n",
       "    </tr>\n",
       "    <tr>\n",
       "      <th>2</th>\n",
       "      <td>monero</td>\n",
       "    </tr>\n",
       "  </tbody>\n",
       "</table>\n",
       "</div>"
      ],
      "text/plain": [
       "         id\n",
       "0   bitcoin\n",
       "1  dogecoin\n",
       "2    monero"
      ]
     },
     "execution_count": 2,
     "metadata": {},
     "output_type": "execute_result"
    }
   ],
   "source": [
    "ids=pd.read_csv('main50.csv', index_col = 'Unnamed: 0')\n",
    "ids.head(3)"
   ]
  },
  {
   "cell_type": "markdown",
   "metadata": {},
   "source": [
    "#### Assert connection"
   ]
  },
  {
   "cell_type": "code",
   "execution_count": 3,
   "metadata": {},
   "outputs": [],
   "source": [
    "client = storage.Client(project='awaricripto')"
   ]
  },
  {
   "cell_type": "markdown",
   "metadata": {},
   "source": [
    "### Define function for bucket creation"
   ]
  },
  {
   "cell_type": "code",
   "execution_count": null,
   "metadata": {},
   "outputs": [],
   "source": [
    "def create_bucket_class_location(bucket_name):\n",
    "    \"\"\"\n",
    "    Create a new bucket in the US region with the Standard storage\n",
    "    class\n",
    "    \"\"\"\n",
    "\n",
    "    storage_client = storage.Client()\n",
    "\n",
    "    bucket = storage_client.bucket(bucket_name)\n",
    "    bucket.storage_class = \"STANDARD\"\n",
    "    new_bucket = storage_client.create_bucket(bucket, location=\"us\")\n",
    "\n",
    "    print(\n",
    "        \"Created bucket {} in {} with storage class {}\".format(\n",
    "            new_bucket.name, new_bucket.location, new_bucket.storage_class\n",
    "        )\n",
    "    )\n",
    "    return new_bucket"
   ]
  },
  {
   "cell_type": "code",
   "execution_count": null,
   "metadata": {},
   "outputs": [],
   "source": [
    "for id in ids.id:    \n",
    "    bucket_name = f'{id}_awaricripto_bucket'\n",
    "    create_bucket_class_location(bucket_name)"
   ]
  },
  {
   "cell_type": "markdown",
   "metadata": {},
   "source": [
    "#### Transfer | upload updated_CSVs to respective 'id' bucket. "
   ]
  },
  {
   "cell_type": "code",
   "execution_count": 4,
   "metadata": {},
   "outputs": [],
   "source": [
    "def upload_files_to_gcsBuckets(bucket_name, source_file_name, destination_blob_name):\n",
    "    \"\"\"Recursively copy a directory of files to GCS, each file is 1 bucket.\n",
    "    \"\"\"\n",
    "    storage_client = storage.Client()\n",
    "    bucket = storage_client.bucket(bucket_name)\n",
    "    blob = bucket.blob(destination_blob_name)\n",
    "\n",
    "    blob.upload_from_filename(source_file_name)\n",
    "\n",
    "    print(\n",
    "        \"File {} uploaded to {}.\".format(\n",
    "            source_file_name, destination_blob_name\n",
    "        )\n",
    "    )\n",
    "    "
   ]
  },
  {
   "cell_type": "markdown",
   "metadata": {},
   "source": [
    "### Apply"
   ]
  },
  {
   "cell_type": "code",
   "execution_count": 5,
   "metadata": {
    "scrolled": true
   },
   "outputs": [
    {
     "name": "stdout",
     "output_type": "stream",
     "text": [
      "File /Users/gabrielgomes/ProjetoAwariCripto/Updating workflow/updated_CSVs/bitcoin_updated.csv uploaded to bitcoin_ts.\n",
      "File /Users/gabrielgomes/ProjetoAwariCripto/Updating workflow/updated_CSVs/dogecoin_updated.csv uploaded to dogecoin_ts.\n",
      "File /Users/gabrielgomes/ProjetoAwariCripto/Updating workflow/updated_CSVs/monero_updated.csv uploaded to monero_ts.\n",
      "File /Users/gabrielgomes/ProjetoAwariCripto/Updating workflow/updated_CSVs/litecoin_updated.csv uploaded to litecoin_ts.\n",
      "File /Users/gabrielgomes/ProjetoAwariCripto/Updating workflow/updated_CSVs/zcash_updated.csv uploaded to zcash_ts.\n",
      "File /Users/gabrielgomes/ProjetoAwariCripto/Updating workflow/updated_CSVs/tron_updated.csv uploaded to tron_ts.\n",
      "File /Users/gabrielgomes/ProjetoAwariCripto/Updating workflow/updated_CSVs/neo_updated.csv uploaded to neo_ts.\n",
      "File /Users/gabrielgomes/ProjetoAwariCripto/Updating workflow/updated_CSVs/ripple_updated.csv uploaded to ripple_ts.\n",
      "File /Users/gabrielgomes/ProjetoAwariCripto/Updating workflow/updated_CSVs/stellar_updated.csv uploaded to stellar_ts.\n",
      "File /Users/gabrielgomes/ProjetoAwariCripto/Updating workflow/updated_CSVs/chainlink_updated.csv uploaded to chainlink_ts.\n",
      "File /Users/gabrielgomes/ProjetoAwariCripto/Updating workflow/updated_CSVs/steem_updated.csv uploaded to steem_ts.\n",
      "File /Users/gabrielgomes/ProjetoAwariCripto/Updating workflow/updated_CSVs/steem-dollars_updated.csv uploaded to steem-dollars_ts.\n",
      "File /Users/gabrielgomes/ProjetoAwariCripto/Updating workflow/updated_CSVs/dash_updated.csv uploaded to dash_ts.\n",
      "File /Users/gabrielgomes/ProjetoAwariCripto/Updating workflow/updated_CSVs/verge_updated.csv uploaded to verge_ts.\n",
      "File /Users/gabrielgomes/ProjetoAwariCripto/Updating workflow/updated_CSVs/the-graph_updated.csv uploaded to the-graph_ts.\n",
      "File /Users/gabrielgomes/ProjetoAwariCripto/Updating workflow/updated_CSVs/hiveterminal_updated.csv uploaded to hiveterminal_ts.\n",
      "File /Users/gabrielgomes/ProjetoAwariCripto/Updating workflow/updated_CSVs/bytom_updated.csv uploaded to bytom_ts.\n",
      "File /Users/gabrielgomes/ProjetoAwariCripto/Updating workflow/updated_CSVs/storj_updated.csv uploaded to storj_ts.\n",
      "File /Users/gabrielgomes/ProjetoAwariCripto/Updating workflow/updated_CSVs/bitshares_updated.csv uploaded to bitshares_ts.\n",
      "File /Users/gabrielgomes/ProjetoAwariCripto/Updating workflow/updated_CSVs/compound-yearn-finance_updated.csv uploaded to compound-yearn-finance_ts.\n",
      "File /Users/gabrielgomes/ProjetoAwariCripto/Updating workflow/updated_CSVs/peercoin_updated.csv uploaded to peercoin_ts.\n",
      "File /Users/gabrielgomes/ProjetoAwariCripto/Updating workflow/updated_CSVs/aelf_updated.csv uploaded to aelf_ts.\n",
      "File /Users/gabrielgomes/ProjetoAwariCripto/Updating workflow/updated_CSVs/mina-protocol_updated.csv uploaded to mina-protocol_ts.\n",
      "File /Users/gabrielgomes/ProjetoAwariCripto/Updating workflow/updated_CSVs/aeternity_updated.csv uploaded to aeternity_ts.\n",
      "File /Users/gabrielgomes/ProjetoAwariCripto/Updating workflow/updated_CSVs/dragonchain_updated.csv uploaded to dragonchain_ts.\n",
      "File /Users/gabrielgomes/ProjetoAwariCripto/Updating workflow/updated_CSVs/vechain_updated.csv uploaded to vechain_ts.\n",
      "File /Users/gabrielgomes/ProjetoAwariCripto/Updating workflow/updated_CSVs/skycoin_updated.csv uploaded to skycoin_ts.\n",
      "File /Users/gabrielgomes/ProjetoAwariCripto/Updating workflow/updated_CSVs/augur_updated.csv uploaded to augur_ts.\n",
      "File /Users/gabrielgomes/ProjetoAwariCripto/Updating workflow/updated_CSVs/gridcoin-research_updated.csv uploaded to gridcoin-research_ts.\n",
      "File /Users/gabrielgomes/ProjetoAwariCripto/Updating workflow/updated_CSVs/aragon_updated.csv uploaded to aragon_ts.\n",
      "File /Users/gabrielgomes/ProjetoAwariCripto/Updating workflow/updated_CSVs/ark_updated.csv uploaded to ark_ts.\n",
      "File /Users/gabrielgomes/ProjetoAwariCripto/Updating workflow/updated_CSVs/ethereum_updated.csv uploaded to ethereum_ts.\n",
      "File /Users/gabrielgomes/ProjetoAwariCripto/Updating workflow/updated_CSVs/electroneum_updated.csv uploaded to electroneum_ts.\n",
      "File /Users/gabrielgomes/ProjetoAwariCripto/Updating workflow/updated_CSVs/tornado-cash_updated.csv uploaded to tornado-cash_ts.\n",
      "File /Users/gabrielgomes/ProjetoAwariCripto/Updating workflow/updated_CSVs/platon-network_updated.csv uploaded to platon-network_ts.\n",
      "File /Users/gabrielgomes/ProjetoAwariCripto/Updating workflow/updated_CSVs/eos_updated.csv uploaded to eos_ts.\n",
      "File /Users/gabrielgomes/ProjetoAwariCripto/Updating workflow/updated_CSVs/coin98_updated.csv uploaded to coin98_ts.\n",
      "File /Users/gabrielgomes/ProjetoAwariCripto/Updating workflow/updated_CSVs/solana_updated.csv uploaded to solana_ts.\n",
      "File /Users/gabrielgomes/ProjetoAwariCripto/Updating workflow/updated_CSVs/matic-network_updated.csv uploaded to matic-network_ts.\n",
      "File /Users/gabrielgomes/ProjetoAwariCripto/Updating workflow/updated_CSVs/cardano_updated.csv uploaded to cardano_ts.\n",
      "File /Users/gabrielgomes/ProjetoAwariCripto/Updating workflow/updated_CSVs/terra-luna_updated.csv uploaded to terra-luna_ts.\n",
      "File /Users/gabrielgomes/ProjetoAwariCripto/Updating workflow/updated_CSVs/mirror-protocol_updated.csv uploaded to mirror-protocol_ts.\n",
      "File /Users/gabrielgomes/ProjetoAwariCripto/Updating workflow/updated_CSVs/aave_updated.csv uploaded to aave_ts.\n",
      "File /Users/gabrielgomes/ProjetoAwariCripto/Updating workflow/updated_CSVs/avalanche-2_updated.csv uploaded to avalanche-2_ts.\n",
      "File /Users/gabrielgomes/ProjetoAwariCripto/Updating workflow/updated_CSVs/ftx-token_updated.csv uploaded to ftx-token_ts.\n",
      "File /Users/gabrielgomes/ProjetoAwariCripto/Updating workflow/updated_CSVs/arweave_updated.csv uploaded to arweave_ts.\n",
      "File /Users/gabrielgomes/ProjetoAwariCripto/Updating workflow/updated_CSVs/polkadot_updated.csv uploaded to polkadot_ts.\n",
      "File /Users/gabrielgomes/ProjetoAwariCripto/Updating workflow/updated_CSVs/fantom_updated.csv uploaded to fantom_ts.\n",
      "File /Users/gabrielgomes/ProjetoAwariCripto/Updating workflow/updated_CSVs/thorchain_updated.csv uploaded to thorchain_ts.\n"
     ]
    }
   ],
   "source": [
    "for id in ids.id: \n",
    "    bucket_name = f'{id}_awaricripto_bucket'\n",
    "    source_file_name = f'/Users/gabrielgomes/ProjetoAwariCripto/Updating workflow/updated_CSVs/{id}_updated.csv'\n",
    "    destination_blob_name = f'{id}_ts'\n",
    "    \n",
    "    upload_files_to_gcsBuckets(bucket_name, source_file_name, destination_blob_name)"
   ]
  }
 ],
 "metadata": {
  "kernelspec": {
   "display_name": "Python 3",
   "language": "python",
   "name": "python3"
  },
  "language_info": {
   "codemirror_mode": {
    "name": "ipython",
    "version": 3
   },
   "file_extension": ".py",
   "mimetype": "text/x-python",
   "name": "python",
   "nbconvert_exporter": "python",
   "pygments_lexer": "ipython3",
   "version": "3.7.6"
  }
 },
 "nbformat": 4,
 "nbformat_minor": 4
}
