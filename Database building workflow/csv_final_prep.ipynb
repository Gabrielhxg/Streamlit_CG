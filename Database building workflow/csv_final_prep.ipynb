{
 "cells": [
  {
   "cell_type": "code",
   "execution_count": 2,
   "metadata": {},
   "outputs": [],
   "source": [
    "# Requirements \n",
    "import pandas as pd \n",
    "import matplotlib.pyplot as plt\n",
    "import seaborn as sns\n",
    "\n",
    "from datetime import datetime"
   ]
  },
  {
   "cell_type": "markdown",
   "metadata": {},
   "source": [
    "* This step **handles NaN collected from the API** in the last step (**preOperations**)\n",
    "* It does that by **eliminating rows (dates) in which all values are NaN** (project'd not yet been listed)\n",
    "* and by **using interpolation to fill remaining missing values**. "
   ]
  },
  {
   "cell_type": "markdown",
   "metadata": {},
   "source": [
    "#### Define function to rollout all 50main ids "
   ]
  },
  {
   "cell_type": "code",
   "execution_count": 25,
   "metadata": {},
   "outputs": [],
   "source": [
    "def forAll(ids):\n",
    "    # Repeat process to each id in main50.csv\n",
    "    for id in ids['id']:\n",
    "        # read project csv file\n",
    "        from_path = f'/Users/gabrielgomes/ProjetoAwariCripto/ts_CSVs/{id}_daily_data.csv'\n",
    "        df = pd.read_csv(from_path)\n",
    "        \n",
    "        # Rename \n",
    "        df = df.rename(columns={'Unnamed: 0': 'dates'})\n",
    "        \n",
    "        # drop all-NaN rows\n",
    "        df.drop(df.dates[[row for row in range(len(df.dates)) if df.iloc[row,:].isnull().all()]], inplace = True)\n",
    "\n",
    "        # INTERPOLATE\n",
    "        # The api request fails to retrieve some github data in particular dates**\n",
    "        # For those dates, we shall fill NaNs with the avg between known succeding values, with df.interpolate\n",
    "        df.interpolate(inplace=True)\n",
    "\n",
    "        # backfill first entry if there's any NaN\n",
    "        df.fillna(method='bfill', inplace=True)\n",
    "        \n",
    "        to_path = f'/Users/gabrielgomes/ProjetoAwariCripto/treated_CSVs/{id}_final.csv'\n",
    "        df.to_csv(to_path)\n",
    "        "
   ]
  },
  {
   "cell_type": "markdown",
   "metadata": {},
   "source": [
    "#### Apply"
   ]
  },
  {
   "cell_type": "code",
   "execution_count": 23,
   "metadata": {},
   "outputs": [],
   "source": [
    "# Set separeted folder | 'treated_CSVs'\n",
    "import os  \n",
    "os.makedirs('treated_CSVs', exist_ok=True)"
   ]
  },
  {
   "cell_type": "code",
   "execution_count": 24,
   "metadata": {
    "scrolled": true
   },
   "outputs": [],
   "source": [
    "# ids list\n",
    "ids = pd.read_csv('main50.csv')\n",
    "\n",
    "# Apply function for all coins in ids\n",
    "forAll(ids)"
   ]
  },
  {
   "cell_type": "markdown",
   "metadata": {},
   "source": [
    "**Now, we have all 50 projects time seried files stored in the 'treated_CSVs' local folder.**\n",
    "\n",
    "In the next step workflow **Updating Google Storage database**, we will transfer the latest time-serie (3 years ago ~ Initial feed's date), so that every day we can add the latest metrics  directly to the cloud (Google Storage)."
   ]
  }
 ],
 "metadata": {
  "kernelspec": {
   "display_name": "Python 3",
   "language": "python",
   "name": "python3"
  },
  "language_info": {
   "codemirror_mode": {
    "name": "ipython",
    "version": 3
   },
   "file_extension": ".py",
   "mimetype": "text/x-python",
   "name": "python",
   "nbconvert_exporter": "python",
   "pygments_lexer": "ipython3",
   "version": "3.7.6"
  }
 },
 "nbformat": 4,
 "nbformat_minor": 4
}
